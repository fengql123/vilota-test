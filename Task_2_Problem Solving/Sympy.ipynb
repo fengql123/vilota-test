{
 "cells": [
  {
   "cell_type": "markdown",
   "id": "78af088e",
   "metadata": {},
   "source": [
    "### Part a"
   ]
  },
  {
   "cell_type": "code",
   "execution_count": 1,
   "id": "a7b3882d",
   "metadata": {},
   "outputs": [
    {
     "data": {
      "text/latex": [
       "$\\displaystyle \\left[\\begin{matrix}\\frac{fx}{z} & 0 & - \\frac{fx x}{z^{2}}\\\\0 & \\frac{fy}{z} & - \\frac{fy y}{z^{2}}\\end{matrix}\\right]$"
      ],
      "text/plain": [
       "⎡fx      -fx⋅x ⎤\n",
       "⎢──  0   ──────⎥\n",
       "⎢z          2  ⎥\n",
       "⎢          z   ⎥\n",
       "⎢              ⎥\n",
       "⎢    fy  -fy⋅y ⎥\n",
       "⎢0   ──  ──────⎥\n",
       "⎢    z      2  ⎥\n",
       "⎣          z   ⎦"
      ]
     },
     "metadata": {},
     "output_type": "display_data"
    }
   ],
   "source": [
    "import symforce\n",
    "symforce.set_symbolic_api(\"symengine\")\n",
    "symforce.set_epsilon_to_symbol()\n",
    "import symforce.symbolic as sf\n",
    "from symforce.notebook_util import display\n",
    "from symforce.notebook_util import print_expression_tree\n",
    "\n",
    "x, y, z, fx, cx, fy, cy = sf.symbols('x y z fx cx fy cy')\n",
    "f = sf.Matrix(\n",
    "    [\n",
    "        fx*x/z + cx, \n",
    "        fy*y/z + cy\n",
    "    ]\n",
    ")\n",
    "\n",
    "display(f.jacobian([x,y,z]))"
   ]
  },
  {
   "cell_type": "markdown",
   "id": "bb5e870f",
   "metadata": {},
   "source": [
    "### Part b"
   ]
  },
  {
   "cell_type": "code",
   "execution_count": 3,
   "id": "712f116f",
   "metadata": {
    "scrolled": false
   },
   "outputs": [
    {
     "data": {
      "text/plain": [
       "<symforce.opt.factor.Factor at 0x7ea207b5cd30>"
      ]
     },
     "metadata": {},
     "output_type": "display_data"
    }
   ],
   "source": [
    "import numpy as np\n",
    "from symforce.values import Values\n",
    "\n",
    "num_poses = 3\n",
    "num_landmarks = 3\n",
    "\n",
    "initial_values = Values(\n",
    "    poses=[sf.Pose2.identity()] * num_poses,\n",
    "    landmarks=[sf.V2(-2, 2), sf.V2(1, -3), sf.V2(5, 2)],\n",
    "    distances=[1.7, 1.4],\n",
    "    angles=np.deg2rad([[145, 335, 55], [185, 310, 70], [215, 310, 70]]).tolist(),\n",
    "    epsilon=sf.numeric_epsilon,\n",
    ")\n",
    "\n",
    "def bearing_residual(\n",
    "    pose: sf.Pose2, landmark: sf.V2, angle: sf.Scalar, epsilon: sf.Scalar\n",
    ") -> sf.V1:\n",
    "    t_body = pose.inverse() * landmark\n",
    "    predicted_angle = sf.atan2(t_body[1], t_body[0], epsilon=epsilon)\n",
    "    return sf.V1(sf.wrap_angle(predicted_angle - angle))\n",
    "\n",
    "def odometry_residual(\n",
    "    pose_a: sf.Pose2, pose_b: sf.Pose2, dist: sf.Scalar, epsilon: sf.Scalar\n",
    ") -> sf.V1:\n",
    "    return sf.V1((pose_b.t - pose_a.t).norm(epsilon=epsilon) - dist)\n",
    "\n",
    "from symforce.opt.factor import Factor\n",
    "\n",
    "factors = []\n",
    "\n",
    "# Bearing factors\n",
    "for i in range(num_poses):\n",
    "    for j in range(num_landmarks):\n",
    "        factors.append(Factor(\n",
    "            residual=bearing_residual,\n",
    "            keys=[f\"poses[{i}]\", f\"landmarks[{j}]\", f\"angles[{i}][{j}]\", \"epsilon\"],\n",
    "        ))\n",
    "\n",
    "# Odometry factors\n",
    "for i in range(num_poses - 1):\n",
    "    factors.append(Factor(\n",
    "        residual=odometry_residual,\n",
    "        keys=[f\"poses[{i}]\", f\"poses[{i + 1}]\", f\"distances[{i}]\", \"epsilon\"],\n",
    "    ))"
   ]
  }
 ],
 "metadata": {
  "kernelspec": {
   "display_name": "Python 3 (ipykernel)",
   "language": "python",
   "name": "python3"
  },
  "language_info": {
   "codemirror_mode": {
    "name": "ipython",
    "version": 3
   },
   "file_extension": ".py",
   "mimetype": "text/x-python",
   "name": "python",
   "nbconvert_exporter": "python",
   "pygments_lexer": "ipython3",
   "version": "3.10.9"
  }
 },
 "nbformat": 4,
 "nbformat_minor": 5
}
