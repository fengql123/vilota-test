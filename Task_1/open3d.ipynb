{
 "cells": [
  {
   "cell_type": "code",
   "execution_count": null,
   "id": "84c74f3b",
   "metadata": {
    "scrolled": true
   },
   "outputs": [],
   "source": [
    "import open3d as o3d\n",
    "import numpy as np\n",
    "\n",
    "vis = o3d.visualization.Visualizer()\n",
    "vis.create_window()\n",
    "\n",
    "# Function to create camera wireframe\n",
    "def create_camera_wireframe():\n",
    "    # Define camera parameters\n",
    "    fov = 60 # Field of view in degrees\n",
    "    aspect_ratio = 1  # Aspect ratio (width/height)\n",
    "    near = 0.1  # Near plane\n",
    "    far = 1  # Far plane\n",
    "\n",
    "    # Define camera points\n",
    "    points = [[0, 0, 0],  # Camera center\n",
    "              [0, 0, -1],  # Camera forward direction\n",
    "              [-1 * aspect_ratio * np.tan(np.radians(fov / 2)), 1 * np.tan(np.radians(fov / 2)), -1],  # Top left corner\n",
    "              [1 * aspect_ratio * np.tan(np.radians(fov / 2)), 1 * np.tan(np.radians(fov / 2)), -1],   # Top right corner\n",
    "              [1 * aspect_ratio * np.tan(np.radians(fov / 2)), -1 * np.tan(np.radians(fov / 2)), -1],  # Bottom right corner\n",
    "              [-1 * aspect_ratio * np.tan(np.radians(fov / 2)), -1 * np.tan(np.radians(fov / 2)), -1], # Bottom left corner\n",
    "             ]\n",
    "\n",
    "    # Define camera lines\n",
    "    lines = [ [0, 2], [0, 3], [0, 4], [0, 5] ,[2, 3], [3, 4], [4, 5], [5, 2]]\n",
    "\n",
    "    # Create camera wireframe\n",
    "    camera_wireframe = o3d.geometry.LineSet()\n",
    "    camera_wireframe.points = o3d.utility.Vector3dVector(points)\n",
    "    camera_wireframe.lines = o3d.utility.Vector2iVector(lines)\n",
    "\n",
    "    return camera_wireframe\n",
    "\n",
    "# Add camera wireframe to the visualizer\n",
    "camera_wireframe = create_camera_wireframe()\n",
    "vis.add_geometry(camera_wireframe)\n",
    "\n",
    "# Function to animate camera wireframe motion\n",
    "def animate_camera_wireframe(vis):\n",
    "    global camera_wireframe\n",
    "    # Rotate camera around the y-axis\n",
    "    rotation_matrix = np.array([[np.cos(np.pi / 180), 0, np.sin(np.pi / 180)],\n",
    "                                [0, 1, 0],\n",
    "                                [-np.sin(np.pi / 180), 0, np.cos(np.pi / 180)]])\n",
    "    camera_wireframe.rotate(rotation_matrix, center=(0, 0, 0))\n",
    "\n",
    "    vis.update_geometry(camera_wireframe)\n",
    "    vis.poll_events()\n",
    "    vis.update_renderer()\n",
    "\n",
    "# Register the animate_camera_wireframe function as the animation callback\n",
    "vis.register_animation_callback(animate_camera_wireframe)\n",
    "\n",
    "# Run the animation\n",
    "vis.run()"
   ]
  }
 ],
 "metadata": {
  "kernelspec": {
   "display_name": "Python 3 (ipykernel)",
   "language": "python",
   "name": "python3"
  },
  "language_info": {
   "codemirror_mode": {
    "name": "ipython",
    "version": 3
   },
   "file_extension": ".py",
   "mimetype": "text/x-python",
   "name": "python",
   "nbconvert_exporter": "python",
   "pygments_lexer": "ipython3",
   "version": "3.10.9"
  }
 },
 "nbformat": 4,
 "nbformat_minor": 5
}
